{
 "cells": [
  {
   "cell_type": "markdown",
   "metadata": {},
   "source": [
    "# Modelling the world with simpy"
   ]
  },
  {
   "cell_type": "markdown",
   "metadata": {},
   "source": [
    "You want to simulate a primary care consultation. There are one doctor (Resource) that will attend a patient every 5 minutes, from 10:00 to 13:00. Patients arrive with +/- 5 minutes from their scheduled time. Doctor will take between 4 and 10 minutes to attend each patient. provide commented python code to run the simulation and evaluate the average waiting time and total delay"
   ]
  },
  {
   "cell_type": "markdown",
   "metadata": {},
   "source": [
    "For this task, we'll use simpy, a discrete-event simulation library in Python."
   ]
  },
  {
   "cell_type": "code",
   "execution_count": 1,
   "metadata": {},
   "outputs": [],
   "source": [
    "import simpy\n",
    "import random"
   ]
  },
  {
   "cell_type": "markdown",
   "metadata": {},
   "source": [
    "- Initialize the Simulation Environment: We'll use discrete event simulation, where time progresses based on the occurrence of events rather than fixed time steps.\n",
    "\n",
    "- Define the Resources: In this case, we have one doctor who can attend one patient at a time.\n",
    "\n",
    "- Create the Patient Arrivals: Patients arrive every 5 minutes, but with a variability of +/- 5 minutes.\n",
    "\n",
    "- Define the Consultation Process: Each consultation takes between 4 and 10 minutes.\n",
    "\n",
    "- Collect Statistics: We need to track the average waiting time and total delay.\n",
    "\n",
    "- Run the Simulation: From 10:00 to 13:00 and analyze the results.\n",
    "\n"
   ]
  },
  {
   "cell_type": "code",
   "execution_count": 2,
   "metadata": {},
   "outputs": [],
   "source": [
    "# Setup and run the simulation\n",
    "\n",
    "env = simpy.Environment()"
   ]
  },
  {
   "cell_type": "code",
   "execution_count": 3,
   "metadata": {},
   "outputs": [],
   "source": [
    "# Parameters\n",
    "num_doctors = 1\n",
    "interval = 5  # Patient arrival interval\n",
    "wait_times = []  # List to record waiting times\n",
    "start_time = '10:00'\n",
    "duration = 3 * 60 # time in minutes\n"
   ]
  },
  {
   "cell_type": "code",
   "execution_count": 4,
   "metadata": {},
   "outputs": [],
   "source": [
    "from datetime import datetime, timedelta"
   ]
  },
  {
   "cell_type": "code",
   "execution_count": 5,
   "metadata": {},
   "outputs": [],
   "source": [
    "def hora(sim_time, start_time=start_time):\n",
    "    # Parse the time string into a datetime object\n",
    "    time_obj = datetime.strptime(start_time, '%H:%M')\n",
    "\n",
    "    # Add the minutes\n",
    "    new_time = time_obj + timedelta(minutes=sim_time)\n",
    "\n",
    "    # Format and return the new time\n",
    "    return new_time.strftime('%H:%M')"
   ]
  },
  {
   "cell_type": "code",
   "execution_count": 6,
   "metadata": {},
   "outputs": [],
   "source": [
    "def paciente(env, name, doctor, wait_times):\n",
    "    \"\"\"Patient process. Each patient will wait for a doctor \n",
    "       and then have a consultation.\"\"\"\n",
    "    \n",
    "    arrival_time = env.now\n",
    "    \n",
    "    print(f'{name} arrives at {hora(arrival_time)}')\n",
    "    \n",
    "    with doctor.request() as request:\n",
    "        yield request\n",
    "        wait = env.now - arrival_time  # Calculate the waiting time\n",
    "        wait_times.append(wait)  # Record the waiting time\n",
    "        print(f'{name} waited {wait} minutes')\n",
    "        \n",
    "        consultation_time = random.randint(4, 10)  # Consultation takes between 4 and 10 minutes\n",
    "        yield env.timeout(consultation_time)\n",
    "        print(f'{name} leaves at {env.now}')"
   ]
  },
  {
   "cell_type": "code",
   "execution_count": 7,
   "metadata": {},
   "outputs": [],
   "source": [
    "\n",
    "\n",
    "def consulta(env, num_doctors, interval, wait_times):\n",
    "    \"\"\"Setup the simulation environment.\"\"\"\n",
    "    # Create the doctor resource\n",
    "    doctor = simpy.Resource(env, num_doctors)\n",
    "\n",
    "    # Generate patients\n",
    "    i = 0\n",
    "    while True:\n",
    "        yield env.timeout(random.randint(interval - 5, interval + 5))  # Patient arrival time variability\n",
    "        i += 1\n",
    "        env.process(paciente(env, f'Patient {i}', doctor, wait_times))\n",
    "\n",
    "\n"
   ]
  },
  {
   "cell_type": "code",
   "execution_count": 8,
   "metadata": {},
   "outputs": [
    {
     "data": {
      "text/plain": [
       "<Process(consulta) object at 0x7f005d546ad0>"
      ]
     },
     "execution_count": 8,
     "metadata": {},
     "output_type": "execute_result"
    }
   ],
   "source": [
    "# Setup and run the simulation\n",
    "\n",
    "env.process(consulta(env, num_doctors, interval, wait_times))\n"
   ]
  },
  {
   "cell_type": "code",
   "execution_count": 9,
   "metadata": {},
   "outputs": [
    {
     "name": "stdout",
     "output_type": "stream",
     "text": [
      "Patient 1 arrives at 10:03\n",
      "Patient 1 waited 0 minutes\n",
      "Patient 2 arrives at 10:04\n",
      "Patient 3 arrives at 10:07\n",
      "Patient 1 leaves at 12\n",
      "Patient 2 waited 8 minutes\n",
      "Patient 4 arrives at 10:16\n",
      "Patient 5 arrives at 10:16\n",
      "Patient 6 arrives at 10:16\n",
      "Patient 2 leaves at 21\n",
      "Patient 3 waited 14 minutes\n",
      "Patient 7 arrives at 10:22\n",
      "Patient 8 arrives at 10:24\n",
      "Patient 3 leaves at 27\n",
      "Patient 4 waited 11 minutes\n",
      "Patient 9 arrives at 10:29\n",
      "Patient 4 leaves at 32\n",
      "Patient 5 waited 16 minutes\n",
      "Patient 10 arrives at 10:34\n",
      "Patient 5 leaves at 42\n",
      "Patient 6 waited 26 minutes\n",
      "Patient 11 arrives at 10:44\n",
      "Patient 12 arrives at 10:47\n",
      "Patient 6 leaves at 49\n",
      "Patient 7 waited 27 minutes\n",
      "Patient 7 leaves at 53\n",
      "Patient 8 waited 29 minutes\n",
      "Patient 13 arrives at 10:57\n",
      "Patient 14 arrives at 11:00\n",
      "Patient 15 arrives at 11:00\n",
      "Patient 8 leaves at 62\n",
      "Patient 9 waited 33 minutes\n",
      "Patient 16 arrives at 11:10\n",
      "Patient 9 leaves at 71\n",
      "Patient 10 waited 37 minutes\n",
      "Patient 17 arrives at 11:14\n",
      "Patient 10 leaves at 78\n",
      "Patient 11 waited 34 minutes\n",
      "Patient 18 arrives at 11:21\n",
      "Patient 19 arrives at 11:22\n",
      "Patient 11 leaves at 86\n",
      "Patient 12 waited 39 minutes\n",
      "Patient 20 arrives at 11:27\n",
      "Patient 12 leaves at 92\n",
      "Patient 13 waited 35 minutes\n",
      "Patient 21 arrives at 11:35\n",
      "Patient 13 leaves at 101\n",
      "Patient 14 waited 41 minutes\n",
      "Patient 22 arrives at 11:43\n",
      "Patient 23 arrives at 11:49\n",
      "Patient 14 leaves at 110\n",
      "Patient 15 waited 50 minutes\n",
      "Patient 24 arrives at 11:58\n",
      "Patient 15 leaves at 120\n",
      "Patient 16 waited 50 minutes\n",
      "Patient 25 arrives at 12:01\n",
      "Patient 26 arrives at 12:03\n",
      "Patient 16 leaves at 125\n",
      "Patient 17 waited 51 minutes\n",
      "Patient 17 leaves at 131\n",
      "Patient 18 waited 50 minutes\n",
      "Patient 27 arrives at 12:12\n",
      "Patient 28 arrives at 12:18\n",
      "Patient 18 leaves at 139\n",
      "Patient 19 waited 57 minutes\n",
      "Patient 29 arrives at 12:24\n",
      "Patient 30 arrives at 12:25\n",
      "Patient 19 leaves at 147\n",
      "Patient 20 waited 60 minutes\n",
      "Patient 31 arrives at 12:35\n",
      "Patient 20 leaves at 156\n",
      "Patient 21 waited 61 minutes\n",
      "Patient 21 leaves at 162\n",
      "Patient 22 waited 59 minutes\n",
      "Patient 32 arrives at 12:44\n",
      "Patient 22 leaves at 167\n",
      "Patient 23 waited 58 minutes\n",
      "Patient 33 arrives at 12:48\n",
      "Patient 23 leaves at 174\n",
      "Patient 34 arrives at 12:54\n",
      "Patient 24 waited 56 minutes\n",
      "Patient 24 leaves at 178\n",
      "Patient 25 waited 57 minutes\n"
     ]
    }
   ],
   "source": [
    "env.run(until=duration)  # Run for 180 minutes (3 hours from 10:00 to 13:00)"
   ]
  },
  {
   "cell_type": "code",
   "execution_count": 10,
   "metadata": {},
   "outputs": [
    {
     "name": "stdout",
     "output_type": "stream",
     "text": [
      "Average waiting time: 38.36 minutes\n"
     ]
    }
   ],
   "source": [
    "# Calculate and print the average waiting time\n",
    "average_wait = sum(wait_times) / len(wait_times) if wait_times else 0\n",
    "print(f'Average waiting time: {average_wait} minutes')"
   ]
  },
  {
   "cell_type": "code",
   "execution_count": null,
   "metadata": {},
   "outputs": [],
   "source": []
  }
 ],
 "metadata": {
  "kernelspec": {
   "display_name": "syntheticdata",
   "language": "python",
   "name": "python3"
  },
  "language_info": {
   "codemirror_mode": {
    "name": "ipython",
    "version": 3
   },
   "file_extension": ".py",
   "mimetype": "text/x-python",
   "name": "python",
   "nbconvert_exporter": "python",
   "pygments_lexer": "ipython3",
   "version": "3.10.12"
  }
 },
 "nbformat": 4,
 "nbformat_minor": 2
}
